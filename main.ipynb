{
 "cells": [
  {
   "cell_type": "code",
   "execution_count": 3,
   "metadata": {},
   "outputs": [],
   "source": [
    "from maze import Maze\n",
    "import numpy as np\n",
    "import argparse"
   ]
  },
  {
   "cell_type": "code",
   "execution_count": 4,
   "metadata": {},
   "outputs": [
    {
     "name": "stdout",
     "output_type": "stream",
     "text": [
      "--------------------------------------------------\n",
      "\t\tInitializing Maze\n",
      "--------------------------------------------------\n"
     ]
    }
   ],
   "source": [
    "a = Maze(verbose=False,step=10,radius=10)"
   ]
  },
  {
   "cell_type": "code",
   "execution_count": null,
   "metadata": {},
   "outputs": [],
   "source": [
    "start=(16,16,0)\n",
    "goal=(385,235,2)"
   ]
  },
  {
   "cell_type": "code",
   "execution_count": null,
   "metadata": {},
   "outputs": [
    {
     "name": "stdout",
     "output_type": "stream",
     "text": [
      "--------------------------------------------------\n",
      "\t\tStarting search\n",
      "--------------------------------------------------\n",
      "Found the shortest path to  [384.5 234. ]\n",
      "\n",
      "\n",
      "\n",
      "--------------------------------------------------\n",
      "\t\tStarting BackTrack\n",
      "--------------------------------------------------\n",
      "\n",
      "--------------------------------------------------\n",
      "\t\tBackTrack Complete\n",
      "--------------------------------------------------\n",
      "\n"
     ]
    }
   ],
   "source": [
    "if (a.solve_maze(start,goal)):\n",
    "    path = a.back_track()    \n",
    "    # a.simple_plot_path()\n",
    "    # a.game_plot()"
   ]
  },
  {
   "cell_type": "code",
   "execution_count": null,
   "metadata": {},
   "outputs": [
    {
     "data": {
      "image/png": "[encoded data removed]",
      "text/plain": [
       "<Figure size 432x288 with 1 Axes>"
      ]
     },
     "metadata": {
      "needs_background": "light"
     },
     "output_type": "display_data"
    }
   ],
   "source": [
    "a.plot_explored_nodes()"
   ]
  },
  {
   "cell_type": "code",
   "execution_count": null,
   "metadata": {},
   "outputs": [],
   "source": [
    "abc = a.get_maze()"
   ]
  },
  {
   "cell_type": "code",
   "execution_count": null,
   "metadata": {},
   "outputs": [],
   "source": []
  }
 ],
 "metadata": {
  "interpreter": {
   "hash": "75be3606324e7ac5bc661a90d547fd63ba4b3fb1ddada9c531af674fc77fef81"
  },
  "kernelspec": {
   "display_name": "Python 3.9.7 ('enpm661')",
   "language": "python",
   "name": "python3"
  },
  "language_info": {
   "codemirror_mode": {
    "name": "ipython",
    "version": 3
   },
   "file_extension": ".py",
   "mimetype": "text/x-python",
   "name": "python",
   "nbconvert_exporter": "python",
   "pygments_lexer": "ipython3",
   "version": "3.9.7"
  },
  "orig_nbformat": 4
 },
 "nbformat": 4,
 "nbformat_minor": 2
}
