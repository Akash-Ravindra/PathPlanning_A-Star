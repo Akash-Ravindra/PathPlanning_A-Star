{
 "cells": [
  {
   "cell_type": "code",
   "execution_count": 1,
   "metadata": {},
   "outputs": [],
   "source": [
    "from maze import Maze\n",
    "import numpy as np\n",
    "import argparse"
   ]
  },
  {
   "cell_type": "markdown",
   "metadata": {},
   "source": [
    "def get_inputs():\n",
    "    parser = argparse.ArgumentParser(description='Finds the path from start to goal using Dijkstra\\'s algorithm',usage='\\t\\t\\tpython %(prog)s -x0 100 -y0 50 -x1 400 -y1 250\\t\\t\\tSilent Operation\\n\\t\\t\\tpython %(prog)s -x0 100 -y0 50 -x1 400 -y1 250 --output\\t\\tVerbose Operation ',)\n",
    "    parser.add_argument('-x0', type=np.int0, default=0, help=\"The x coordinate of the Start Node\")\n",
    "    parser.add_argument('-y0', type=np.int0, default=0, help=\"The y coordinate of the Start Node\")\n",
    "    parser.add_argument('-x1', type=np.int0, default=400, help=\"The x coordinate of the Goal Node\")\n",
    "    parser.add_argument('-y1', type=np.int0, default=250, help=\"The y coordinate of the Goal Node\")\n",
    "    parser.add_argument('-o', '--output', action='store_true', help=\"Turns on verbose\")\n",
    "    \n",
    "    \n",
    "    args = parser.parse_args()\n",
    "    start =(args.x0,args.y0)\n",
    "    goal = (args.x1,args.y1)\n",
    "    v = args.output\n",
    "    return [start,goal,v]"
   ]
  },
  {
   "cell_type": "markdown",
   "metadata": {},
   "source": [
    "def main(start,goal,verbose=False):\n",
    "    a = Maze(verbose=verbose)\n",
    "    if (a.solve_maze(start,goal)):\n",
    "        path = a.back_track()    \n",
    "        a.simple_plot_path()\n",
    "        a.game_plot()\n",
    "    print(('-'*50)+\"\\n\\t\\tCLOSING\\t\\t\\n\"+('-'*50))\n",
    "    "
   ]
  },
  {
   "cell_type": "markdown",
   "metadata": {},
   "source": [
    "if __name__== '__main__':\n",
    "    start,goal,v = get_inputs()\n",
    "    main(start=start,goal=goal,verbose=v)"
   ]
  },
  {
   "cell_type": "code",
   "execution_count": 2,
   "metadata": {},
   "outputs": [
    {
     "name": "stdout",
     "output_type": "stream",
     "text": [
      "--------------------------------------------------\n",
      "\t\tInitializing Maze\n",
      "--------------------------------------------------\n",
      "--------------------------------------------------\n",
      "\t\tStarting search\n",
      "--------------------------------------------------\n",
      "Found the shortest path to  [  0 100]\n",
      "\n",
      "\n",
      "\n",
      "--------------------------------------------------\n",
      "\t\tStarting BackTrack\n",
      "--------------------------------------------------\n",
      "\n",
      "--------------------------------------------------\n",
      "\t\tBackTrack Complete\n",
      "--------------------------------------------------\n",
      "\n"
     ]
    },
    {
     "data": {
      "image/png": "[encoded data removed]",
      "text/plain": [
       "<Figure size 432x288 with 1 Axes>"
      ]
     },
     "metadata": {
      "needs_background": "light"
     },
     "output_type": "display_data"
    },
    {
     "ename": "KeyboardInterrupt",
     "evalue": "",
     "output_type": "error",
     "traceback": [
      "\u001b[0;31m---------------------------------------------------------------------------\u001b[0m",
      "\u001b[0;31mKeyboardInterrupt\u001b[0m                         Traceback (most recent call last)",
      "\u001b[0;32m<ipython-input-2-9842e460c7f0>\u001b[0m in \u001b[0;36m<module>\u001b[0;34m\u001b[0m\n\u001b[1;32m      4\u001b[0m \u001b[0;32mif\u001b[0m \u001b[0;34m(\u001b[0m\u001b[0ma\u001b[0m\u001b[0;34m.\u001b[0m\u001b[0msolve_maze\u001b[0m\u001b[0;34m(\u001b[0m\u001b[0mstart\u001b[0m\u001b[0;34m,\u001b[0m\u001b[0mgoal\u001b[0m\u001b[0;34m)\u001b[0m\u001b[0;34m)\u001b[0m\u001b[0;34m:\u001b[0m\u001b[0;34m\u001b[0m\u001b[0;34m\u001b[0m\u001b[0m\n\u001b[1;32m      5\u001b[0m     \u001b[0mpath\u001b[0m \u001b[0;34m=\u001b[0m \u001b[0ma\u001b[0m\u001b[0;34m.\u001b[0m\u001b[0mback_track\u001b[0m\u001b[0;34m(\u001b[0m\u001b[0;34m)\u001b[0m\u001b[0;34m\u001b[0m\u001b[0;34m\u001b[0m\u001b[0m\n\u001b[0;32m----> 6\u001b[0;31m     \u001b[0ma\u001b[0m\u001b[0;34m.\u001b[0m\u001b[0msimple_plot_path\u001b[0m\u001b[0;34m(\u001b[0m\u001b[0;34m)\u001b[0m\u001b[0;34m\u001b[0m\u001b[0;34m\u001b[0m\u001b[0m\n\u001b[0m\u001b[1;32m      7\u001b[0m     \u001b[0ma\u001b[0m\u001b[0;34m.\u001b[0m\u001b[0mgame_plot\u001b[0m\u001b[0;34m(\u001b[0m\u001b[0;34m)\u001b[0m\u001b[0;34m\u001b[0m\u001b[0;34m\u001b[0m\u001b[0m\n",
      "\u001b[0;32m~/Documents/College/Sem_2/ENPM661/Project 2/maze.py\u001b[0m in \u001b[0;36msimple_plot_path\u001b[0;34m(self)\u001b[0m\n\u001b[1;32m    413\u001b[0m         \u001b[0mplt\u001b[0m\u001b[0;34m.\u001b[0m\u001b[0mtitle\u001b[0m\u001b[0;34m(\u001b[0m\u001b[0;34m\"Maze path using Dijkstra\"\u001b[0m\u001b[0;34m)\u001b[0m\u001b[0;34m\u001b[0m\u001b[0;34m\u001b[0m\u001b[0m\n\u001b[1;32m    414\u001b[0m         \u001b[0mplt\u001b[0m\u001b[0;34m.\u001b[0m\u001b[0mshow\u001b[0m\u001b[0;34m(\u001b[0m\u001b[0mblock\u001b[0m\u001b[0;34m=\u001b[0m\u001b[0;32mFalse\u001b[0m\u001b[0;34m)\u001b[0m\u001b[0;34m\u001b[0m\u001b[0;34m\u001b[0m\u001b[0m\n\u001b[0;32m--> 415\u001b[0;31m         \u001b[0mplt\u001b[0m\u001b[0;34m.\u001b[0m\u001b[0mpause\u001b[0m\u001b[0;34m(\u001b[0m\u001b[0;36m5\u001b[0m\u001b[0;34m)\u001b[0m\u001b[0;34m\u001b[0m\u001b[0;34m\u001b[0m\u001b[0m\n\u001b[0m\u001b[1;32m    416\u001b[0m         \u001b[0mplt\u001b[0m\u001b[0;34m.\u001b[0m\u001b[0mclose\u001b[0m\u001b[0;34m(\u001b[0m\u001b[0;34m)\u001b[0m\u001b[0;34m\u001b[0m\u001b[0;34m\u001b[0m\u001b[0m\n",
      "\u001b[0;32m~/anaconda3/envs/enpm673_homework1/lib/python3.7/site-packages/matplotlib/pyplot.py\u001b[0m in \u001b[0;36mpause\u001b[0;34m(interval)\u001b[0m\n\u001b[1;32m    558\u001b[0m         \u001b[0mcanvas\u001b[0m\u001b[0;34m.\u001b[0m\u001b[0mstart_event_loop\u001b[0m\u001b[0;34m(\u001b[0m\u001b[0minterval\u001b[0m\u001b[0;34m)\u001b[0m\u001b[0;34m\u001b[0m\u001b[0;34m\u001b[0m\u001b[0m\n\u001b[1;32m    559\u001b[0m     \u001b[0;32melse\u001b[0m\u001b[0;34m:\u001b[0m\u001b[0;34m\u001b[0m\u001b[0;34m\u001b[0m\u001b[0m\n\u001b[0;32m--> 560\u001b[0;31m         \u001b[0mtime\u001b[0m\u001b[0;34m.\u001b[0m\u001b[0msleep\u001b[0m\u001b[0;34m(\u001b[0m\u001b[0minterval\u001b[0m\u001b[0;34m)\u001b[0m\u001b[0;34m\u001b[0m\u001b[0;34m\u001b[0m\u001b[0m\n\u001b[0m\u001b[1;32m    561\u001b[0m \u001b[0;34m\u001b[0m\u001b[0m\n\u001b[1;32m    562\u001b[0m \u001b[0;34m\u001b[0m\u001b[0m\n",
      "\u001b[0;31mKeyboardInterrupt\u001b[0m: "
     ]
    }
   ],
   "source": [
    "a = Maze(verbose=False)\n",
    "start=(0,0)\n",
    "goal=(0,100)\n",
    "if (a.solve_maze(start,goal)):\n",
    "    path = a.back_track()    \n",
    "    a.simple_plot_path()\n",
    "    a.game_plot()"
   ]
  },
  {
   "cell_type": "code",
   "execution_count": 3,
   "metadata": {},
   "outputs": [],
   "source": [
    "a.cv_plot()"
   ]
  },
  {
   "cell_type": "code",
   "execution_count": 2,
   "metadata": {},
   "outputs": [],
   "source": [
    "arrow = np.array([[115,210],[80,180],[105,100],[36,185]],np.int32)\n",
    "arrow[:,0],arrow[:,1] = arrow[:,1],arrow[:,0]\n",
    "arrow[:,0] = 250-arrow[:,0]"
   ]
  },
  {
   "cell_type": "code",
   "execution_count": 3,
   "metadata": {},
   "outputs": [
    {
     "data": {
      "text/plain": [
       "array([[115, 210],\n",
       "       [ 80, 180],\n",
       "       [105, 100],\n",
       "       [ 36, 185]], dtype=int32)"
      ]
     },
     "execution_count": 3,
     "metadata": {},
     "output_type": "execute_result"
    }
   ],
   "source": [
    "arrow"
   ]
  },
  {
   "cell_type": "code",
   "execution_count": 4,
   "metadata": {},
   "outputs": [
    {
     "data": {
      "text/plain": [
       "array([[[115, 210]],\n",
       "\n",
       "       [[ 80, 180]],\n",
       "\n",
       "       [[105, 100]],\n",
       "\n",
       "       [[ 36, 185]]], dtype=int32)"
      ]
     },
     "execution_count": 4,
     "metadata": {},
     "output_type": "execute_result"
    }
   ],
   "source": [
    "arrow.reshape((-1,1,2))"
   ]
  },
  {
   "cell_type": "code",
   "execution_count": null,
   "metadata": {},
   "outputs": [],
   "source": []
  }
 ],
 "metadata": {
  "interpreter": {
   "hash": "75be3606324e7ac5bc661a90d547fd63ba4b3fb1ddada9c531af674fc77fef81"
  },
  "kernelspec": {
   "display_name": "Python 3.9.7 ('enpm661')",
   "language": "python",
   "name": "python3"
  },
  "language_info": {
   "codemirror_mode": {
    "name": "ipython",
    "version": 3
   },
   "file_extension": ".py",
   "mimetype": "text/x-python",
   "name": "python",
   "nbconvert_exporter": "python",
   "pygments_lexer": "ipython3",
   "version": "3.7.11"
  },
  "orig_nbformat": 4
 },
 "nbformat": 4,
 "nbformat_minor": 2
}
