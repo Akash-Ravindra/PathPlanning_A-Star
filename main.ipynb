{
 "cells": [
  {
   "cell_type": "code",
   "execution_count": 1,
   "metadata": {},
   "outputs": [],
   "source": [
    "from maze import Maze\n",
    "import numpy as np\n",
    "import argparse"
   ]
  },
  {
   "cell_type": "code",
   "execution_count": 2,
   "metadata": {},
   "outputs": [
    {
     "name": "stdout",
     "output_type": "stream",
     "text": [
      "--------------------------------------------------\n",
      "\t\tInitializing Maze\n",
      "--------------------------------------------------\n"
     ]
    }
   ],
   "source": [
    "a = Maze(verbose=False,step=1,radius=10)"
   ]
  },
  {
   "cell_type": "code",
   "execution_count": 3,
   "metadata": {},
   "outputs": [],
   "source": [
    "start=(16,16,0)\n",
    "goal=(300,100,6)"
   ]
  },
  {
   "cell_type": "code",
   "execution_count": 4,
   "metadata": {},
   "outputs": [
    {
     "name": "stdout",
     "output_type": "stream",
     "text": [
      "--------------------------------------------------\n",
      "\t\tStarting search\n",
      "--------------------------------------------------\n",
      "Found the shortest path to  [298.5 100. ]\n",
      "\n",
      "\n",
      "\n",
      "--------------------------------------------------\n",
      "\t\tStarting BackTrack\n",
      "--------------------------------------------------\n",
      "\n",
      "--------------------------------------------------\n",
      "\t\tBackTrack Complete\n",
      "--------------------------------------------------\n",
      "\n"
     ]
    },
    {
     "data": {
      "image/png": "[encoded data removed]",
      "text/plain": [
       "<Figure size 432x288 with 1 Axes>"
      ]
     },
     "metadata": {
      "needs_background": "light"
     },
     "output_type": "display_data"
    }
   ],
   "source": [
    "if (a.solve_maze(start,goal)):\n",
    "    path = a.back_track()    \n",
    "    a.simple_plot_path()\n",
    "    # a.game_plot()"
   ]
  },
  {
   "cell_type": "code",
   "execution_count": 7,
   "metadata": {},
   "outputs": [],
   "source": [
    "abc = a.get_maze()"
   ]
  },
  {
   "cell_type": "code",
   "execution_count": 4,
   "metadata": {},
   "outputs": [
    {
     "data": {
      "text/plain": [
       "True"
      ]
     },
     "execution_count": 4,
     "metadata": {},
     "output_type": "execute_result"
    }
   ],
   "source": [
    "abc[500,0,0].get_is_visited()"
   ]
  },
  {
   "cell_type": "code",
   "execution_count": 23,
   "metadata": {},
   "outputs": [],
   "source": [
    "ab = a.get_close_list()"
   ]
  },
  {
   "cell_type": "code",
   "execution_count": 24,
   "metadata": {},
   "outputs": [
    {
     "data": {
      "text/plain": [
       "[0.5 0. ] Angle-0"
      ]
     },
     "execution_count": 24,
     "metadata": {},
     "output_type": "execute_result"
    }
   ],
   "source": [
    "ab[1]"
   ]
  },
  {
   "cell_type": "code",
   "execution_count": 65,
   "metadata": {},
   "outputs": [
    {
     "data": {
      "text/plain": [
       "1.0"
      ]
     },
     "execution_count": 65,
     "metadata": {},
     "output_type": "execute_result"
    }
   ],
   "source": [
    "ab[9730].get_heuristic()"
   ]
  },
  {
   "cell_type": "code",
   "execution_count": 82,
   "metadata": {},
   "outputs": [
    {
     "data": {
      "text/plain": [
       "(301, 1, 3)"
      ]
     },
     "execution_count": 82,
     "metadata": {},
     "output_type": "execute_result"
    }
   ],
   "source": [
    "ab[973].get_parent()"
   ]
  },
  {
   "cell_type": "code",
   "execution_count": 76,
   "metadata": {},
   "outputs": [
    {
     "data": {
      "text/plain": [
       "array([300,   0,   0], dtype=int32)"
      ]
     },
     "execution_count": 76,
     "metadata": {},
     "output_type": "execute_result"
    }
   ],
   "source": [
    "abc[a.start_goal[-1]].get_position()"
   ]
  },
  {
   "cell_type": "code",
   "execution_count": 74,
   "metadata": {},
   "outputs": [
    {
     "data": {
      "text/plain": [
       "(300, 0, 0)"
      ]
     },
     "execution_count": 74,
     "metadata": {},
     "output_type": "execute_result"
    }
   ],
   "source": [
    "a.start_goal[-1]"
   ]
  },
  {
   "cell_type": "code",
   "execution_count": 3,
   "metadata": {},
   "outputs": [
    {
     "name": "stdout",
     "output_type": "stream",
     "text": [
      "No path from Start to goal\n"
     ]
    }
   ],
   "source": [
    "path= a.back_track(a.new_goal.get_position())"
   ]
  },
  {
   "cell_type": "code",
   "execution_count": 6,
   "metadata": {},
   "outputs": [
    {
     "data": {
      "text/plain": [
       "array([299., 101.])"
      ]
     },
     "execution_count": 6,
     "metadata": {},
     "output_type": "execute_result"
    }
   ],
   "source": [
    "a.new_goal.get_cartisian()"
   ]
  },
  {
   "cell_type": "code",
   "execution_count": 3,
   "metadata": {},
   "outputs": [
    {
     "data": {
      "text/plain": [
       "(298, 601, 3)"
      ]
     },
     "execution_count": 3,
     "metadata": {},
     "output_type": "execute_result"
    }
   ],
   "source": [
    "a.start_goal[-1]"
   ]
  },
  {
   "cell_type": "code",
   "execution_count": 8,
   "metadata": {},
   "outputs": [
    {
     "name": "stdout",
     "output_type": "stream",
     "text": [
      "Self: [299. 101.] Angle-90 Parent: (299, 598, 2) Cost: 599\n"
     ]
    }
   ],
   "source": [
    "print(abc[298,598,3])"
   ]
  },
  {
   "cell_type": "code",
   "execution_count": 10,
   "metadata": {},
   "outputs": [
    {
     "data": {
      "text/plain": [
       "array([299. , 100.5])"
      ]
     },
     "execution_count": 10,
     "metadata": {},
     "output_type": "execute_result"
    }
   ],
   "source": [
    "abc[299,598,2].get_cartisian()"
   ]
  },
  {
   "cell_type": "code",
   "execution_count": 11,
   "metadata": {},
   "outputs": [
    {
     "data": {
      "text/plain": [
       "array([299., 101.])"
      ]
     },
     "execution_count": 11,
     "metadata": {},
     "output_type": "execute_result"
    }
   ],
   "source": [
    "abc[298,598,3].get_cartisian()"
   ]
  },
  {
   "cell_type": "code",
   "execution_count": 5,
   "metadata": {},
   "outputs": [
    {
     "data": {
      "text/plain": [
       "569"
      ]
     },
     "execution_count": 5,
     "metadata": {},
     "output_type": "execute_result"
    }
   ],
   "source": [
    "len(path)"
   ]
  },
  {
   "cell_type": "code",
   "execution_count": 19,
   "metadata": {},
   "outputs": [
    {
     "name": "stdout",
     "output_type": "stream",
     "text": [
      "Self: [16. 16.] Angle-0 Parent: None Cost: 0\n",
      "Self: [16.5 16.5] Angle-60 Parent: (468, 32, 0) Cost: 1\n",
      "Self: [17. 17.] Angle-60 Parent: (467, 33, 2) Cost: 2\n",
      "Self: [17.5 17.5] Angle-60 Parent: (466, 34, 2) Cost: 3\n",
      "Self: [18. 18.] Angle-60 Parent: (465, 35, 2) Cost: 4\n",
      "Self: [18.5 18.5] Angle-60 Parent: (464, 36, 2) Cost: 5\n",
      "Self: [19. 19.] Angle-60 Parent: (463, 37, 2) Cost: 6\n",
      "Self: [19.5 19.5] Angle-60 Parent: (462, 38, 2) Cost: 7\n",
      "Self: [20. 20.] Angle-60 Parent: (461, 39, 2) Cost: 8\n",
      "Self: [20.5 20.5] Angle-60 Parent: (460, 40, 2) Cost: 9\n",
      "Self: [21. 21.] Angle-60 Parent: (459, 41, 2) Cost: 10\n",
      "Self: [21.5 21.5] Angle-60 Parent: (458, 42, 2) Cost: 11\n",
      "Self: [22. 22.] Angle-60 Parent: (457, 43, 2) Cost: 12\n",
      "Self: [22.5 22.5] Angle-60 Parent: (456, 44, 2) Cost: 13\n",
      "Self: [23. 23.] Angle-60 Parent: (455, 45, 2) Cost: 14\n",
      "Self: [23.5 23.5] Angle-60 Parent: (454, 46, 2) Cost: 15\n",
      "Self: [24. 24.] Angle-60 Parent: (453, 47, 2) Cost: 16\n",
      "Self: [24.5 24.5] Angle-60 Parent: (452, 48, 2) Cost: 17\n",
      "Self: [25. 25.] Angle-60 Parent: (451, 49, 2) Cost: 18\n",
      "Self: [25.5 25.5] Angle-60 Parent: (450, 50, 2) Cost: 19\n",
      "Self: [26. 26.] Angle-60 Parent: (449, 51, 2) Cost: 20\n",
      "Self: [26.5 26.5] Angle-60 Parent: (448, 52, 2) Cost: 21\n",
      "Self: [27. 27.] Angle-60 Parent: (447, 53, 2) Cost: 22\n",
      "Self: [27.5 27.5] Angle-60 Parent: (446, 54, 2) Cost: 23\n",
      "Self: [28. 28.] Angle-60 Parent: (445, 55, 2) Cost: 24\n",
      "Self: [28.5 28.5] Angle-60 Parent: (444, 56, 2) Cost: 25\n",
      "Self: [29. 29.] Angle-60 Parent: (443, 57, 2) Cost: 26\n",
      "Self: [29.5 29.5] Angle-60 Parent: (442, 58, 2) Cost: 27\n",
      "Self: [30. 30.] Angle-60 Parent: (441, 59, 2) Cost: 28\n",
      "Self: [30.5 30.5] Angle-60 Parent: (440, 60, 2) Cost: 29\n",
      "Self: [31. 31.] Angle-60 Parent: (439, 61, 2) Cost: 30\n",
      "Self: [31.5 31.5] Angle-60 Parent: (438, 62, 2) Cost: 31\n",
      "Self: [32. 32.] Angle-60 Parent: (437, 63, 2) Cost: 32\n",
      "Self: [32.5 32.5] Angle-60 Parent: (436, 64, 2) Cost: 33\n",
      "Self: [33. 33.] Angle-60 Parent: (435, 65, 2) Cost: 34\n",
      "Self: [33.5 33.5] Angle-60 Parent: (434, 66, 2) Cost: 35\n",
      "Self: [34. 34.] Angle-60 Parent: (433, 67, 2) Cost: 36\n",
      "Self: [34.5 34.5] Angle-60 Parent: (432, 68, 2) Cost: 37\n",
      "Self: [35. 35.] Angle-60 Parent: (431, 69, 2) Cost: 38\n",
      "Self: [35.5 35.5] Angle-60 Parent: (430, 70, 2) Cost: 39\n",
      "Self: [36. 36.] Angle-60 Parent: (429, 71, 2) Cost: 40\n",
      "Self: [36.5 36.5] Angle-60 Parent: (428, 72, 2) Cost: 41\n",
      "Self: [37. 37.] Angle-60 Parent: (427, 73, 2) Cost: 42\n",
      "Self: [37.5 37.5] Angle-60 Parent: (426, 74, 2) Cost: 43\n",
      "Self: [38. 38.] Angle-60 Parent: (425, 75, 2) Cost: 44\n",
      "Self: [38.5 38.5] Angle-60 Parent: (424, 76, 2) Cost: 45\n",
      "Self: [39. 39.] Angle-60 Parent: (423, 77, 2) Cost: 46\n",
      "Self: [39.5 39.5] Angle-60 Parent: (422, 78, 2) Cost: 47\n",
      "Self: [40. 40.] Angle-60 Parent: (421, 79, 2) Cost: 48\n",
      "Self: [40.5 40.5] Angle-60 Parent: (420, 80, 2) Cost: 49\n",
      "Self: [41. 41.] Angle-60 Parent: (419, 81, 2) Cost: 50\n",
      "Self: [41.5 41.5] Angle-60 Parent: (418, 82, 2) Cost: 51\n",
      "Self: [42. 42.] Angle-60 Parent: (417, 83, 2) Cost: 52\n",
      "Self: [42.5 42.5] Angle-60 Parent: (416, 84, 2) Cost: 53\n",
      "Self: [43. 43.] Angle-60 Parent: (415, 85, 2) Cost: 54\n",
      "Self: [43.5 43.5] Angle-60 Parent: (414, 86, 2) Cost: 55\n",
      "Self: [44. 44.] Angle-60 Parent: (413, 87, 2) Cost: 56\n",
      "Self: [44.5 44.5] Angle-30 Parent: (412, 88, 2) Cost: 57\n",
      "Self: [45.  44.5] Angle-330 Parent: (411, 89, 1) Cost: 58\n",
      "Self: [45.5 44.5] Angle-300 Parent: (411, 90, 11) Cost: 59\n",
      "Self: [46.  44.5] Angle-300 Parent: (411, 91, 10) Cost: 60\n",
      "Self: [46.5 44.5] Angle-300 Parent: (411, 92, 10) Cost: 61\n",
      "Self: [47.  44.5] Angle-300 Parent: (411, 93, 10) Cost: 62\n",
      "Self: [47.5 44.5] Angle-300 Parent: (411, 94, 10) Cost: 63\n",
      "Self: [48.  44.5] Angle-300 Parent: (411, 95, 10) Cost: 64\n",
      "Self: [48.5 44.5] Angle-300 Parent: (411, 96, 10) Cost: 65\n",
      "Self: [49.  44.5] Angle-300 Parent: (411, 97, 10) Cost: 66\n",
      "Self: [49.5 44.5] Angle-300 Parent: (411, 98, 10) Cost: 67\n",
      "Self: [50.  44.5] Angle-300 Parent: (411, 99, 10) Cost: 68\n",
      "Self: [50.5 44.5] Angle-300 Parent: (411, 100, 10) Cost: 69\n",
      "Self: [51.  44.5] Angle-300 Parent: (411, 101, 10) Cost: 70\n",
      "Self: [51.5 44.5] Angle-300 Parent: (411, 102, 10) Cost: 71\n",
      "Self: [52.  44.5] Angle-300 Parent: (411, 103, 10) Cost: 72\n",
      "Self: [52.5 44.5] Angle-300 Parent: (411, 104, 10) Cost: 73\n",
      "Self: [53.  44.5] Angle-300 Parent: (411, 105, 10) Cost: 74\n",
      "Self: [53.5 44.5] Angle-300 Parent: (411, 106, 10) Cost: 75\n",
      "Self: [54.  44.5] Angle-300 Parent: (411, 107, 10) Cost: 76\n",
      "Self: [54.5 44.5] Angle-300 Parent: (411, 108, 10) Cost: 77\n",
      "Self: [55.  44.5] Angle-300 Parent: (411, 109, 10) Cost: 78\n",
      "Self: [55.5 44.5] Angle-300 Parent: (411, 110, 10) Cost: 79\n",
      "Self: [56.  44.5] Angle-300 Parent: (411, 111, 10) Cost: 80\n",
      "Self: [56.5 44.5] Angle-300 Parent: (411, 112, 10) Cost: 81\n",
      "Self: [57.  44.5] Angle-300 Parent: (411, 113, 10) Cost: 82\n",
      "Self: [57.5 44.5] Angle-300 Parent: (411, 114, 10) Cost: 83\n",
      "Self: [58.  44.5] Angle-300 Parent: (411, 115, 10) Cost: 84\n",
      "Self: [58.5 44.5] Angle-300 Parent: (411, 116, 10) Cost: 85\n",
      "Self: [59.  44.5] Angle-300 Parent: (411, 117, 10) Cost: 86\n",
      "Self: [59.5 44.5] Angle-300 Parent: (411, 118, 10) Cost: 87\n",
      "Self: [60.  44.5] Angle-300 Parent: (411, 119, 10) Cost: 88\n",
      "Self: [60.5 44.5] Angle-300 Parent: (411, 120, 10) Cost: 89\n",
      "Self: [61.  44.5] Angle-300 Parent: (411, 121, 10) Cost: 90\n",
      "Self: [61.5 44.5] Angle-300 Parent: (411, 122, 10) Cost: 91\n",
      "Self: [62.  44.5] Angle-300 Parent: (411, 123, 10) Cost: 92\n",
      "Self: [62.5 44.5] Angle-300 Parent: (411, 124, 10) Cost: 93\n",
      "Self: [63.  44.5] Angle-300 Parent: (411, 125, 10) Cost: 94\n",
      "Self: [63.5 44.5] Angle-300 Parent: (411, 126, 10) Cost: 95\n",
      "Self: [64.  44.5] Angle-300 Parent: (411, 127, 10) Cost: 96\n",
      "Self: [64.5 44.5] Angle-300 Parent: (411, 128, 10) Cost: 97\n",
      "Self: [65.  44.5] Angle-300 Parent: (411, 129, 10) Cost: 98\n",
      "Self: [65.5 44.5] Angle-300 Parent: (411, 130, 10) Cost: 99\n",
      "Self: [66.  44.5] Angle-300 Parent: (411, 131, 10) Cost: 100\n",
      "Self: [66.5 44.5] Angle-300 Parent: (411, 132, 10) Cost: 101\n",
      "Self: [67.  44.5] Angle-300 Parent: (411, 133, 10) Cost: 102\n",
      "Self: [67.5 44.5] Angle-300 Parent: (411, 134, 10) Cost: 103\n",
      "Self: [68.  44.5] Angle-300 Parent: (411, 135, 10) Cost: 104\n",
      "Self: [68.5 44.5] Angle-300 Parent: (411, 136, 10) Cost: 105\n",
      "Self: [69.  44.5] Angle-300 Parent: (411, 137, 10) Cost: 106\n",
      "Self: [69.5 44.5] Angle-300 Parent: (411, 138, 10) Cost: 107\n",
      "Self: [70.  44.5] Angle-300 Parent: (411, 139, 10) Cost: 108\n",
      "Self: [70.5 44.5] Angle-300 Parent: (411, 140, 10) Cost: 109\n",
      "Self: [71.  44.5] Angle-300 Parent: (411, 141, 10) Cost: 110\n",
      "Self: [71.5 44.5] Angle-300 Parent: (411, 142, 10) Cost: 111\n",
      "Self: [72.  44.5] Angle-300 Parent: (411, 143, 10) Cost: 112\n",
      "Self: [72.5 44.5] Angle-300 Parent: (411, 144, 10) Cost: 113\n",
      "Self: [73.  44.5] Angle-300 Parent: (411, 145, 10) Cost: 114\n",
      "Self: [73.5 44.5] Angle-300 Parent: (411, 146, 10) Cost: 115\n",
      "Self: [74.  44.5] Angle-300 Parent: (411, 147, 10) Cost: 116\n",
      "Self: [74.5 44.5] Angle-300 Parent: (411, 148, 10) Cost: 117\n",
      "Self: [75.  44.5] Angle-300 Parent: (411, 149, 10) Cost: 118\n",
      "Self: [75.5 44.5] Angle-300 Parent: (411, 150, 10) Cost: 119\n",
      "Self: [76.  44.5] Angle-300 Parent: (411, 151, 10) Cost: 120\n",
      "Self: [76.5 44.5] Angle-300 Parent: (411, 152, 10) Cost: 121\n",
      "Self: [77.  44.5] Angle-300 Parent: (411, 153, 10) Cost: 122\n",
      "Self: [77.5 44.5] Angle-300 Parent: (411, 154, 10) Cost: 123\n",
      "Self: [78.  44.5] Angle-300 Parent: (411, 155, 10) Cost: 124\n",
      "Self: [78.5 44.5] Angle-300 Parent: (411, 156, 10) Cost: 125\n",
      "Self: [79.  44.5] Angle-300 Parent: (411, 157, 10) Cost: 126\n",
      "Self: [79.5 44.5] Angle-300 Parent: (411, 158, 10) Cost: 127\n",
      "Self: [80.  44.5] Angle-300 Parent: (411, 159, 10) Cost: 128\n",
      "Self: [80.5 44.5] Angle-300 Parent: (411, 160, 10) Cost: 129\n",
      "Self: [81.  44.5] Angle-300 Parent: (411, 161, 10) Cost: 130\n",
      "Self: [81.5 44.5] Angle-300 Parent: (411, 162, 10) Cost: 131\n",
      "Self: [82.  44.5] Angle-300 Parent: (411, 163, 10) Cost: 132\n",
      "Self: [82.5 44.5] Angle-300 Parent: (411, 164, 10) Cost: 133\n",
      "Self: [83.  44.5] Angle-300 Parent: (411, 165, 10) Cost: 134\n",
      "Self: [83.5 44.5] Angle-300 Parent: (411, 166, 10) Cost: 135\n",
      "Self: [84.  44.5] Angle-300 Parent: (411, 167, 10) Cost: 136\n",
      "Self: [84.5 44.5] Angle-300 Parent: (411, 168, 10) Cost: 137\n",
      "Self: [85.  44.5] Angle-300 Parent: (411, 169, 10) Cost: 138\n",
      "Self: [85.5 44.5] Angle-300 Parent: (411, 170, 10) Cost: 139\n",
      "Self: [86.  44.5] Angle-300 Parent: (411, 171, 10) Cost: 140\n",
      "Self: [86.5 44.5] Angle-300 Parent: (411, 172, 10) Cost: 141\n",
      "Self: [87.  44.5] Angle-300 Parent: (411, 173, 10) Cost: 142\n",
      "Self: [87.5 44.5] Angle-300 Parent: (411, 174, 10) Cost: 143\n",
      "Self: [88.  44.5] Angle-300 Parent: (411, 175, 10) Cost: 144\n",
      "Self: [88.5 44.5] Angle-300 Parent: (411, 176, 10) Cost: 145\n",
      "Self: [89.  44.5] Angle-300 Parent: (411, 177, 10) Cost: 146\n",
      "Self: [89.5 44.5] Angle-300 Parent: (411, 178, 10) Cost: 147\n",
      "Self: [90.  44.5] Angle-300 Parent: (411, 179, 10) Cost: 148\n",
      "Self: [90.5 44.5] Angle-300 Parent: (411, 180, 10) Cost: 149\n",
      "Self: [91.  44.5] Angle-300 Parent: (411, 181, 10) Cost: 150\n",
      "Self: [91.5 44.5] Angle-300 Parent: (411, 182, 10) Cost: 151\n",
      "Self: [92.  44.5] Angle-300 Parent: (411, 183, 10) Cost: 152\n",
      "Self: [92.5 44.5] Angle-300 Parent: (411, 184, 10) Cost: 153\n",
      "Self: [93.  44.5] Angle-300 Parent: (411, 185, 10) Cost: 154\n",
      "Self: [93.5 44.5] Angle-300 Parent: (411, 186, 10) Cost: 155\n",
      "Self: [94.  44.5] Angle-300 Parent: (411, 187, 10) Cost: 156\n",
      "Self: [94.5 44.5] Angle-300 Parent: (411, 188, 10) Cost: 157\n",
      "Self: [95.  44.5] Angle-300 Parent: (411, 189, 10) Cost: 158\n",
      "Self: [95.5 44.5] Angle-300 Parent: (411, 190, 10) Cost: 159\n",
      "Self: [96.  44.5] Angle-300 Parent: (411, 191, 10) Cost: 160\n",
      "Self: [96.5 44.5] Angle-300 Parent: (411, 192, 10) Cost: 161\n",
      "Self: [97.  44.5] Angle-300 Parent: (411, 193, 10) Cost: 162\n",
      "Self: [97.5 44.5] Angle-300 Parent: (411, 194, 10) Cost: 163\n",
      "Self: [98.  44.5] Angle-300 Parent: (411, 195, 10) Cost: 164\n",
      "Self: [98.5 44.5] Angle-300 Parent: (411, 196, 10) Cost: 165\n",
      "Self: [99.  44.5] Angle-300 Parent: (411, 197, 10) Cost: 166\n",
      "Self: [99.5 44.5] Angle-300 Parent: (411, 198, 10) Cost: 167\n",
      "Self: [100.   44.5] Angle-300 Parent: (411, 199, 10) Cost: 168\n",
      "Self: [100.5  44.5] Angle-300 Parent: (411, 200, 10) Cost: 169\n",
      "Self: [101.   44.5] Angle-300 Parent: (411, 201, 10) Cost: 170\n",
      "Self: [101.5  44.5] Angle-300 Parent: (411, 202, 10) Cost: 171\n",
      "Self: [102.   44.5] Angle-300 Parent: (411, 203, 10) Cost: 172\n",
      "Self: [102.5  44.5] Angle-300 Parent: (411, 204, 10) Cost: 173\n",
      "Self: [103.   44.5] Angle-300 Parent: (411, 205, 10) Cost: 174\n",
      "Self: [103.5  44.5] Angle-300 Parent: (411, 206, 10) Cost: 175\n",
      "Self: [104.   44.5] Angle-300 Parent: (411, 207, 10) Cost: 176\n",
      "Self: [104.5  44.5] Angle-300 Parent: (411, 208, 10) Cost: 177\n",
      "Self: [105.   44.5] Angle-300 Parent: (411, 209, 10) Cost: 178\n",
      "Self: [105.5  44.5] Angle-300 Parent: (411, 210, 10) Cost: 179\n",
      "Self: [106.   44.5] Angle-300 Parent: (411, 211, 10) Cost: 180\n",
      "Self: [106.5  44.5] Angle-300 Parent: (411, 212, 10) Cost: 181\n",
      "Self: [107.   44.5] Angle-300 Parent: (411, 213, 10) Cost: 182\n",
      "Self: [107.5  44.5] Angle-300 Parent: (411, 214, 10) Cost: 183\n",
      "Self: [108.   44.5] Angle-300 Parent: (411, 215, 10) Cost: 184\n",
      "Self: [108.5  44.5] Angle-300 Parent: (411, 216, 10) Cost: 185\n",
      "Self: [109.   44.5] Angle-300 Parent: (411, 217, 10) Cost: 186\n",
      "Self: [109.5  44.5] Angle-300 Parent: (411, 218, 10) Cost: 187\n",
      "Self: [110.   44.5] Angle-300 Parent: (411, 219, 10) Cost: 188\n",
      "Self: [110.5  44.5] Angle-300 Parent: (411, 220, 10) Cost: 189\n",
      "Self: [111.   44.5] Angle-300 Parent: (411, 221, 10) Cost: 190\n",
      "Self: [111.5  44.5] Angle-300 Parent: (411, 222, 10) Cost: 191\n",
      "Self: [112.   44.5] Angle-300 Parent: (411, 223, 10) Cost: 192\n",
      "Self: [112.5  44.5] Angle-300 Parent: (411, 224, 10) Cost: 193\n",
      "Self: [113.   44.5] Angle-300 Parent: (411, 225, 10) Cost: 194\n",
      "Self: [113.5  44.5] Angle-300 Parent: (411, 226, 10) Cost: 195\n",
      "Self: [114.   44.5] Angle-300 Parent: (411, 227, 10) Cost: 196\n",
      "Self: [114.5  44.5] Angle-300 Parent: (411, 228, 10) Cost: 197\n",
      "Self: [115.   44.5] Angle-300 Parent: (411, 229, 10) Cost: 198\n",
      "Self: [115.5  44.5] Angle-300 Parent: (411, 230, 10) Cost: 199\n",
      "Self: [116.   44.5] Angle-300 Parent: (411, 231, 10) Cost: 200\n",
      "Self: [116.5  44.5] Angle-300 Parent: (411, 232, 10) Cost: 201\n",
      "Self: [117.   44.5] Angle-300 Parent: (411, 233, 10) Cost: 202\n",
      "Self: [117.5  44.5] Angle-300 Parent: (411, 234, 10) Cost: 203\n",
      "Self: [118.   44.5] Angle-300 Parent: (411, 235, 10) Cost: 204\n",
      "Self: [118.5  44.5] Angle-300 Parent: (411, 236, 10) Cost: 205\n",
      "Self: [119.   44.5] Angle-300 Parent: (411, 237, 10) Cost: 206\n",
      "Self: [119.5  44.5] Angle-300 Parent: (411, 238, 10) Cost: 207\n",
      "Self: [120.   44.5] Angle-300 Parent: (411, 239, 10) Cost: 208\n",
      "Self: [120.5  44.5] Angle-300 Parent: (411, 240, 10) Cost: 209\n",
      "Self: [121.   44.5] Angle-300 Parent: (411, 241, 10) Cost: 210\n",
      "Self: [121.5  44.5] Angle-300 Parent: (411, 242, 10) Cost: 211\n",
      "Self: [122.   44.5] Angle-300 Parent: (411, 243, 10) Cost: 212\n",
      "Self: [122.5  44.5] Angle-300 Parent: (411, 244, 10) Cost: 213\n",
      "Self: [123.   44.5] Angle-300 Parent: (411, 245, 10) Cost: 214\n",
      "Self: [123.5  44.5] Angle-300 Parent: (411, 246, 10) Cost: 215\n",
      "Self: [124.   44.5] Angle-300 Parent: (411, 247, 10) Cost: 216\n",
      "Self: [124.5  44.5] Angle-300 Parent: (411, 248, 10) Cost: 217\n",
      "Self: [125.   44.5] Angle-300 Parent: (411, 249, 10) Cost: 218\n",
      "Self: [125.5  44.5] Angle-300 Parent: (411, 250, 10) Cost: 219\n",
      "Self: [126.   44.5] Angle-300 Parent: (411, 251, 10) Cost: 220\n",
      "Self: [126.5  44.5] Angle-300 Parent: (411, 252, 10) Cost: 221\n",
      "Self: [127.   44.5] Angle-300 Parent: (411, 253, 10) Cost: 222\n",
      "Self: [127.5  44.5] Angle-300 Parent: (411, 254, 10) Cost: 223\n",
      "Self: [128.   44.5] Angle-300 Parent: (411, 255, 10) Cost: 224\n",
      "Self: [128.5  44.5] Angle-300 Parent: (411, 256, 10) Cost: 225\n",
      "Self: [129.   44.5] Angle-300 Parent: (411, 257, 10) Cost: 226\n",
      "Self: [129.5  44.5] Angle-300 Parent: (411, 258, 10) Cost: 227\n",
      "Self: [130.   44.5] Angle-300 Parent: (411, 259, 10) Cost: 228\n",
      "Self: [130.5  44.5] Angle-300 Parent: (411, 260, 10) Cost: 229\n",
      "Self: [131.   44.5] Angle-300 Parent: (411, 261, 10) Cost: 230\n",
      "Self: [131.5  44.5] Angle-300 Parent: (411, 262, 10) Cost: 231\n",
      "Self: [132.   44.5] Angle-300 Parent: (411, 263, 10) Cost: 232\n",
      "Self: [132.5  44.5] Angle-300 Parent: (411, 264, 10) Cost: 233\n",
      "Self: [133.   44.5] Angle-300 Parent: (411, 265, 10) Cost: 234\n",
      "Self: [133.5  44.5] Angle-300 Parent: (411, 266, 10) Cost: 235\n",
      "Self: [134.   44.5] Angle-300 Parent: (411, 267, 10) Cost: 236\n",
      "Self: [134.5  44.5] Angle-300 Parent: (411, 268, 10) Cost: 237\n",
      "Self: [135.   44.5] Angle-300 Parent: (411, 269, 10) Cost: 238\n",
      "Self: [135.5  44.5] Angle-300 Parent: (411, 270, 10) Cost: 239\n",
      "Self: [136.   44.5] Angle-300 Parent: (411, 271, 10) Cost: 240\n",
      "Self: [136.5  44.5] Angle-300 Parent: (411, 272, 10) Cost: 241\n",
      "Self: [137.   44.5] Angle-300 Parent: (411, 273, 10) Cost: 242\n",
      "Self: [137.5  44.5] Angle-300 Parent: (411, 274, 10) Cost: 243\n",
      "Self: [138.   44.5] Angle-300 Parent: (411, 275, 10) Cost: 244\n",
      "Self: [138.5  44.5] Angle-300 Parent: (411, 276, 10) Cost: 245\n",
      "Self: [139.   44.5] Angle-300 Parent: (411, 277, 10) Cost: 246\n",
      "Self: [139.5  44.5] Angle-300 Parent: (411, 278, 10) Cost: 247\n",
      "Self: [140.   44.5] Angle-300 Parent: (411, 279, 10) Cost: 248\n",
      "Self: [140.5  44.5] Angle-300 Parent: (411, 280, 10) Cost: 249\n",
      "Self: [141.   44.5] Angle-300 Parent: (411, 281, 10) Cost: 250\n",
      "Self: [141.5  44.5] Angle-300 Parent: (411, 282, 10) Cost: 251\n",
      "Self: [142.   44.5] Angle-300 Parent: (411, 283, 10) Cost: 252\n",
      "Self: [142.5  44.5] Angle-300 Parent: (411, 284, 10) Cost: 253\n",
      "Self: [143.   44.5] Angle-300 Parent: (411, 285, 10) Cost: 254\n",
      "Self: [143.5  44.5] Angle-300 Parent: (411, 286, 10) Cost: 255\n",
      "Self: [144.   44.5] Angle-300 Parent: (411, 287, 10) Cost: 256\n",
      "Self: [144.5  44.5] Angle-300 Parent: (411, 288, 10) Cost: 257\n",
      "Self: [145.   44.5] Angle-300 Parent: (411, 289, 10) Cost: 258\n",
      "Self: [145.5  44.5] Angle-300 Parent: (411, 290, 10) Cost: 259\n",
      "Self: [146.   44.5] Angle-300 Parent: (411, 291, 10) Cost: 260\n",
      "Self: [146.5  44.5] Angle-300 Parent: (411, 292, 10) Cost: 261\n",
      "Self: [147.   44.5] Angle-300 Parent: (411, 293, 10) Cost: 262\n",
      "Self: [147.5  44.5] Angle-300 Parent: (411, 294, 10) Cost: 263\n",
      "Self: [148.   44.5] Angle-300 Parent: (411, 295, 10) Cost: 264\n",
      "Self: [148.5  44.5] Angle-300 Parent: (411, 296, 10) Cost: 265\n",
      "Self: [149.   44.5] Angle-300 Parent: (411, 297, 10) Cost: 266\n",
      "Self: [149.5  44.5] Angle-300 Parent: (411, 298, 10) Cost: 267\n",
      "Self: [150.   44.5] Angle-300 Parent: (411, 299, 10) Cost: 268\n",
      "Self: [150.5  44.5] Angle-300 Parent: (411, 300, 10) Cost: 269\n",
      "Self: [151.   44.5] Angle-300 Parent: (411, 301, 10) Cost: 270\n",
      "Self: [151.5  44.5] Angle-300 Parent: (411, 302, 10) Cost: 271\n",
      "Self: [152.   44.5] Angle-300 Parent: (411, 303, 10) Cost: 272\n",
      "Self: [152.5  44.5] Angle-300 Parent: (411, 304, 10) Cost: 273\n",
      "Self: [153.   44.5] Angle-300 Parent: (411, 305, 10) Cost: 274\n",
      "Self: [153.5  44.5] Angle-300 Parent: (411, 306, 10) Cost: 275\n",
      "Self: [154.   44.5] Angle-300 Parent: (411, 307, 10) Cost: 276\n",
      "Self: [154.5  44.5] Angle-300 Parent: (411, 308, 10) Cost: 277\n",
      "Self: [155.   44.5] Angle-300 Parent: (411, 309, 10) Cost: 278\n",
      "Self: [155.5  44.5] Angle-300 Parent: (411, 310, 10) Cost: 279\n",
      "Self: [156.   44.5] Angle-300 Parent: (411, 311, 10) Cost: 280\n",
      "Self: [156.5  44.5] Angle-300 Parent: (411, 312, 10) Cost: 281\n",
      "Self: [157.   44.5] Angle-300 Parent: (411, 313, 10) Cost: 282\n",
      "Self: [157.5  44.5] Angle-300 Parent: (411, 314, 10) Cost: 283\n",
      "Self: [158.   44.5] Angle-300 Parent: (411, 315, 10) Cost: 284\n",
      "Self: [158.5  44.5] Angle-300 Parent: (411, 316, 10) Cost: 285\n",
      "Self: [159.   44.5] Angle-300 Parent: (411, 317, 10) Cost: 286\n",
      "Self: [159.5  44.5] Angle-300 Parent: (411, 318, 10) Cost: 287\n",
      "Self: [160.   44.5] Angle-300 Parent: (411, 319, 10) Cost: 288\n",
      "Self: [160.5  44.5] Angle-300 Parent: (411, 320, 10) Cost: 289\n",
      "Self: [161.   44.5] Angle-300 Parent: (411, 321, 10) Cost: 290\n",
      "Self: [161.5  44.5] Angle-300 Parent: (411, 322, 10) Cost: 291\n",
      "Self: [162.   44.5] Angle-300 Parent: (411, 323, 10) Cost: 292\n",
      "Self: [162.5  44.5] Angle-300 Parent: (411, 324, 10) Cost: 293\n",
      "Self: [163.   44.5] Angle-300 Parent: (411, 325, 10) Cost: 294\n",
      "Self: [163.5  44.5] Angle-300 Parent: (411, 326, 10) Cost: 295\n",
      "Self: [164.   44.5] Angle-300 Parent: (411, 327, 10) Cost: 296\n",
      "Self: [164.5  44.5] Angle-300 Parent: (411, 328, 10) Cost: 297\n",
      "Self: [165.   44.5] Angle-300 Parent: (411, 329, 10) Cost: 298\n",
      "Self: [165.5  44.5] Angle-300 Parent: (411, 330, 10) Cost: 299\n",
      "Self: [166.   44.5] Angle-300 Parent: (411, 331, 10) Cost: 300\n",
      "Self: [166.5  44.5] Angle-300 Parent: (411, 332, 10) Cost: 301\n",
      "Self: [167.   44.5] Angle-300 Parent: (411, 333, 10) Cost: 302\n",
      "Self: [167.5  44.5] Angle-300 Parent: (411, 334, 10) Cost: 303\n",
      "Self: [168.   44.5] Angle-300 Parent: (411, 335, 10) Cost: 304\n",
      "Self: [168.5  44.5] Angle-300 Parent: (411, 336, 10) Cost: 305\n",
      "Self: [169.   44.5] Angle-300 Parent: (411, 337, 10) Cost: 306\n",
      "Self: [169.5  44.5] Angle-300 Parent: (411, 338, 10) Cost: 307\n",
      "Self: [170.   44.5] Angle-300 Parent: (411, 339, 10) Cost: 308\n",
      "Self: [170.5  44.5] Angle-300 Parent: (411, 340, 10) Cost: 309\n",
      "Self: [171.   44.5] Angle-300 Parent: (411, 341, 10) Cost: 310\n",
      "Self: [171.5  44.5] Angle-300 Parent: (411, 342, 10) Cost: 311\n",
      "Self: [172.   44.5] Angle-300 Parent: (411, 343, 10) Cost: 312\n",
      "Self: [172.5  44.5] Angle-300 Parent: (411, 344, 10) Cost: 313\n",
      "Self: [173.   44.5] Angle-300 Parent: (411, 345, 10) Cost: 314\n",
      "Self: [173.5  44.5] Angle-300 Parent: (411, 346, 10) Cost: 315\n",
      "Self: [174.   44.5] Angle-300 Parent: (411, 347, 10) Cost: 316\n",
      "Self: [174.5  44.5] Angle-300 Parent: (411, 348, 10) Cost: 317\n",
      "Self: [175.   44.5] Angle-300 Parent: (411, 349, 10) Cost: 318\n",
      "Self: [175.5  44.5] Angle-300 Parent: (411, 350, 10) Cost: 319\n",
      "Self: [176.   44.5] Angle-300 Parent: (411, 351, 10) Cost: 320\n",
      "Self: [176.5  44.5] Angle-300 Parent: (411, 352, 10) Cost: 321\n",
      "Self: [177.   44.5] Angle-300 Parent: (411, 353, 10) Cost: 322\n",
      "Self: [177.5  44.5] Angle-300 Parent: (411, 354, 10) Cost: 323\n",
      "Self: [178.   44.5] Angle-300 Parent: (411, 355, 10) Cost: 324\n",
      "Self: [178.5  44.5] Angle-300 Parent: (411, 356, 10) Cost: 325\n",
      "Self: [179.   44.5] Angle-300 Parent: (411, 357, 10) Cost: 326\n",
      "Self: [179.5  44.5] Angle-300 Parent: (411, 358, 10) Cost: 327\n",
      "Self: [180.   44.5] Angle-300 Parent: (411, 359, 10) Cost: 328\n",
      "Self: [180.5  44.5] Angle-300 Parent: (411, 360, 10) Cost: 329\n",
      "Self: [181.   44.5] Angle-300 Parent: (411, 361, 10) Cost: 330\n",
      "Self: [181.5  44.5] Angle-300 Parent: (411, 362, 10) Cost: 331\n",
      "Self: [182.   44.5] Angle-300 Parent: (411, 363, 10) Cost: 332\n",
      "Self: [182.5  44.5] Angle-300 Parent: (411, 364, 10) Cost: 333\n",
      "Self: [183.   44.5] Angle-300 Parent: (411, 365, 10) Cost: 334\n",
      "Self: [183.5  44.5] Angle-300 Parent: (411, 366, 10) Cost: 335\n",
      "Self: [184.   44.5] Angle-300 Parent: (411, 367, 10) Cost: 336\n",
      "Self: [184.5  44.5] Angle-300 Parent: (411, 368, 10) Cost: 337\n",
      "Self: [185.   44.5] Angle-300 Parent: (411, 369, 10) Cost: 338\n",
      "Self: [185.5  44.5] Angle-300 Parent: (411, 370, 10) Cost: 339\n",
      "Self: [186.   44.5] Angle-300 Parent: (411, 371, 10) Cost: 340\n",
      "Self: [186.5  44.5] Angle-300 Parent: (411, 372, 10) Cost: 341\n",
      "Self: [187.   44.5] Angle-300 Parent: (411, 373, 10) Cost: 342\n",
      "Self: [187.5  44.5] Angle-300 Parent: (411, 374, 10) Cost: 343\n",
      "Self: [188.   44.5] Angle-300 Parent: (411, 375, 10) Cost: 344\n",
      "Self: [188.5  44.5] Angle-300 Parent: (411, 376, 10) Cost: 345\n",
      "Self: [189.   44.5] Angle-300 Parent: (411, 377, 10) Cost: 346\n",
      "Self: [189.5  44.5] Angle-300 Parent: (411, 378, 10) Cost: 347\n",
      "Self: [190.   44.5] Angle-300 Parent: (411, 379, 10) Cost: 348\n",
      "Self: [190.5  44.5] Angle-300 Parent: (411, 380, 10) Cost: 349\n",
      "Self: [191.   44.5] Angle-300 Parent: (411, 381, 10) Cost: 350\n",
      "Self: [191.5  44.5] Angle-300 Parent: (411, 382, 10) Cost: 351\n",
      "Self: [192.   44.5] Angle-300 Parent: (411, 383, 10) Cost: 352\n",
      "Self: [192.5  44.5] Angle-300 Parent: (411, 384, 10) Cost: 353\n",
      "Self: [193.   44.5] Angle-300 Parent: (411, 385, 10) Cost: 354\n",
      "Self: [193.5  44.5] Angle-300 Parent: (411, 386, 10) Cost: 355\n",
      "Self: [194.   44.5] Angle-300 Parent: (411, 387, 10) Cost: 356\n",
      "Self: [194.5  44.5] Angle-300 Parent: (411, 388, 10) Cost: 357\n",
      "Self: [195.   44.5] Angle-300 Parent: (411, 389, 10) Cost: 358\n",
      "Self: [195.5  44.5] Angle-300 Parent: (411, 390, 10) Cost: 359\n",
      "Self: [196.   44.5] Angle-300 Parent: (411, 391, 10) Cost: 360\n",
      "Self: [196.5  44.5] Angle-300 Parent: (411, 392, 10) Cost: 361\n",
      "Self: [197.   44.5] Angle-300 Parent: (411, 393, 10) Cost: 362\n",
      "Self: [197.5  44.5] Angle-300 Parent: (411, 394, 10) Cost: 363\n",
      "Self: [198.   44.5] Angle-300 Parent: (411, 395, 10) Cost: 364\n",
      "Self: [198.5  44.5] Angle-300 Parent: (411, 396, 10) Cost: 365\n",
      "Self: [199.   44.5] Angle-300 Parent: (411, 397, 10) Cost: 366\n",
      "Self: [199.5  44.5] Angle-300 Parent: (411, 398, 10) Cost: 367\n",
      "Self: [200.   44.5] Angle-330 Parent: (411, 399, 10) Cost: 368\n",
      "Self: [200.5  45. ] Angle-30 Parent: (411, 400, 11) Cost: 369\n",
      "Self: [201.  45.] Angle-330 Parent: (410, 401, 1) Cost: 370\n",
      "Self: [201.5  45. ] Angle-300 Parent: (410, 402, 11) Cost: 371\n",
      "Self: [202.  45.] Angle-300 Parent: (410, 403, 10) Cost: 372\n",
      "Self: [202.5  45. ] Angle-300 Parent: (410, 404, 10) Cost: 373\n",
      "Self: [203.  45.] Angle-300 Parent: (410, 405, 10) Cost: 374\n",
      "Self: [203.5  45. ] Angle-330 Parent: (410, 406, 10) Cost: 375\n",
      "Self: [204.   45.5] Angle-30 Parent: (410, 407, 11) Cost: 376\n",
      "Self: [204.5  45.5] Angle-330 Parent: (409, 408, 1) Cost: 377\n",
      "Self: [205.   45.5] Angle-330 Parent: (409, 409, 11) Cost: 378\n",
      "Self: [205.5  46. ] Angle-30 Parent: (409, 410, 11) Cost: 379\n",
      "Self: [206.  46.] Angle-330 Parent: (408, 411, 1) Cost: 380\n",
      "Self: [206.5  46. ] Angle-330 Parent: (408, 412, 11) Cost: 381\n",
      "Self: [207.   46.5] Angle-30 Parent: (408, 413, 11) Cost: 382\n",
      "Self: [207.5  47. ] Angle-30 Parent: (407, 414, 1) Cost: 383\n",
      "Self: [208.  47.] Angle-330 Parent: (406, 415, 1) Cost: 384\n",
      "Self: [208.5  47. ] Angle-300 Parent: (406, 416, 11) Cost: 385\n",
      "Self: [209.  47.] Angle-330 Parent: (406, 417, 10) Cost: 386\n",
      "Self: [209.5  47.5] Angle-30 Parent: (406, 418, 11) Cost: 387\n",
      "Self: [210.  48.] Angle-30 Parent: (405, 419, 1) Cost: 388\n",
      "Self: [210.5  48. ] Angle-330 Parent: (404, 420, 1) Cost: 389\n",
      "Self: [211.   48.5] Angle-30 Parent: (404, 421, 11) Cost: 390\n",
      "Self: [211.5  49. ] Angle-30 Parent: (403, 422, 1) Cost: 391\n",
      "Self: [212.  49.] Angle-330 Parent: (402, 423, 1) Cost: 392\n",
      "Self: [212.5  49.5] Angle-30 Parent: (402, 424, 11) Cost: 393\n",
      "Self: [213.   49.5] Angle-330 Parent: (401, 425, 1) Cost: 394\n",
      "Self: [213.5  50. ] Angle-30 Parent: (401, 426, 11) Cost: 395\n",
      "Self: [214.   50.5] Angle-60 Parent: (400, 427, 1) Cost: 396\n",
      "Self: [214.5  51. ] Angle-30 Parent: (399, 428, 2) Cost: 397\n",
      "Self: [215.  51.] Angle-330 Parent: (398, 429, 1) Cost: 398\n",
      "Self: [215.5  51. ] Angle-330 Parent: (398, 430, 11) Cost: 399\n",
      "Self: [216.   51.5] Angle-30 Parent: (398, 431, 11) Cost: 400\n",
      "Self: [216.5  52. ] Angle-30 Parent: (397, 432, 1) Cost: 401\n",
      "Self: [217.  52.] Angle-330 Parent: (396, 433, 1) Cost: 402\n",
      "Self: [217.5  52. ] Angle-330 Parent: (396, 434, 11) Cost: 403\n",
      "Self: [218.   52.5] Angle-30 Parent: (396, 435, 11) Cost: 404\n",
      "Self: [218.5  53. ] Angle-30 Parent: (395, 436, 1) Cost: 405\n",
      "Self: [219.  53.] Angle-330 Parent: (394, 437, 1) Cost: 406\n",
      "Self: [219.5  53.5] Angle-30 Parent: (394, 438, 11) Cost: 407\n",
      "Self: [220.   53.5] Angle-330 Parent: (393, 439, 1) Cost: 408\n",
      "Self: [220.5  54. ] Angle-30 Parent: (393, 440, 11) Cost: 409\n",
      "Self: [221.   54.5] Angle-60 Parent: (392, 441, 1) Cost: 410\n",
      "Self: [221.5  55. ] Angle-30 Parent: (391, 442, 2) Cost: 411\n",
      "Self: [222.  55.] Angle-330 Parent: (390, 443, 1) Cost: 412\n",
      "Self: [222.5  55. ] Angle-330 Parent: (390, 444, 11) Cost: 413\n",
      "Self: [223.   55.5] Angle-30 Parent: (390, 445, 11) Cost: 414\n",
      "Self: [223.5  56. ] Angle-30 Parent: (389, 446, 1) Cost: 415\n",
      "Self: [224.  56.] Angle-330 Parent: (388, 447, 1) Cost: 416\n",
      "Self: [224.5  56. ] Angle-330 Parent: (388, 448, 11) Cost: 417\n",
      "Self: [225.   56.5] Angle-30 Parent: (388, 449, 11) Cost: 418\n",
      "Self: [225.5  57. ] Angle-30 Parent: (387, 450, 1) Cost: 419\n",
      "Self: [226.  57.] Angle-330 Parent: (386, 451, 1) Cost: 420\n",
      "Self: [226.5  57.5] Angle-30 Parent: (386, 452, 11) Cost: 421\n",
      "Self: [227.   57.5] Angle-330 Parent: (385, 453, 1) Cost: 422\n",
      "Self: [227.5  58. ] Angle-30 Parent: (385, 454, 11) Cost: 423\n",
      "Self: [228.   58.5] Angle-60 Parent: (384, 455, 1) Cost: 424\n",
      "Self: [228.5  59. ] Angle-60 Parent: (383, 456, 2) Cost: 425\n",
      "Self: [229.  59.] Angle-0 Parent: (382, 457, 2) Cost: 426\n",
      "Self: [229.5  59. ] Angle-330 Parent: (382, 458, 0) Cost: 427\n",
      "Self: [230.   59.5] Angle-30 Parent: (382, 459, 11) Cost: 428\n",
      "Self: [230.5  60. ] Angle-30 Parent: (381, 460, 1) Cost: 429\n",
      "Self: [231.  60.] Angle-330 Parent: (380, 461, 1) Cost: 430\n",
      "Self: [231.5  60.5] Angle-30 Parent: (380, 462, 11) Cost: 431\n",
      "Self: [232.   60.5] Angle-330 Parent: (379, 463, 1) Cost: 432\n",
      "Self: [232.5  61. ] Angle-30 Parent: (379, 464, 11) Cost: 433\n",
      "Self: [233.   61.5] Angle-60 Parent: (378, 465, 1) Cost: 434\n",
      "Self: [233.5  62. ] Angle-30 Parent: (377, 466, 2) Cost: 435\n",
      "Self: [234.  62.] Angle-330 Parent: (376, 467, 1) Cost: 436\n",
      "Self: [234.5  62. ] Angle-330 Parent: (376, 468, 11) Cost: 437\n",
      "Self: [235.   62.5] Angle-30 Parent: (376, 469, 11) Cost: 438\n",
      "Self: [235.5  63. ] Angle-30 Parent: (375, 470, 1) Cost: 439\n",
      "Self: [236.  63.] Angle-330 Parent: (374, 471, 1) Cost: 440\n",
      "Self: [236.5  63. ] Angle-330 Parent: (374, 472, 11) Cost: 441\n",
      "Self: [237.   63.5] Angle-30 Parent: (374, 473, 11) Cost: 442\n",
      "Self: [237.5  64. ] Angle-30 Parent: (373, 474, 1) Cost: 443\n",
      "Self: [238.  64.] Angle-330 Parent: (372, 475, 1) Cost: 444\n",
      "Self: [238.5  64.5] Angle-30 Parent: (372, 476, 11) Cost: 445\n",
      "Self: [239.   64.5] Angle-330 Parent: (371, 477, 1) Cost: 446\n",
      "Self: [239.5  65. ] Angle-30 Parent: (371, 478, 11) Cost: 447\n",
      "Self: [240.   65.5] Angle-60 Parent: (370, 479, 1) Cost: 448\n",
      "Self: [240.5  66. ] Angle-30 Parent: (369, 480, 2) Cost: 449\n",
      "Self: [241.  66.] Angle-330 Parent: (368, 481, 1) Cost: 450\n",
      "Self: [241.5  66. ] Angle-330 Parent: (368, 482, 11) Cost: 451\n",
      "Self: [242.   66.5] Angle-30 Parent: (368, 483, 11) Cost: 452\n",
      "Self: [242.5  67. ] Angle-30 Parent: (367, 484, 1) Cost: 453\n",
      "Self: [243.  67.] Angle-330 Parent: (366, 485, 1) Cost: 454\n",
      "Self: [243.5  67.5] Angle-30 Parent: (366, 486, 11) Cost: 455\n",
      "Self: [244.   67.5] Angle-330 Parent: (365, 487, 1) Cost: 456\n",
      "Self: [244.5  68. ] Angle-30 Parent: (365, 488, 11) Cost: 457\n",
      "Self: [245.   68.5] Angle-60 Parent: (364, 489, 1) Cost: 458\n",
      "Self: [245.5  69. ] Angle-60 Parent: (363, 490, 2) Cost: 459\n",
      "Self: [246.   69.5] Angle-60 Parent: (362, 491, 2) Cost: 460\n",
      "Self: [246.5  70. ] Angle-60 Parent: (361, 492, 2) Cost: 461\n",
      "Self: [247.   70.5] Angle-60 Parent: (360, 493, 2) Cost: 462\n",
      "Self: [247.5  71. ] Angle-60 Parent: (359, 494, 2) Cost: 463\n",
      "Self: [248.   71.5] Angle-60 Parent: (358, 495, 2) Cost: 464\n",
      "Self: [248.5  72. ] Angle-60 Parent: (357, 496, 2) Cost: 465\n",
      "Self: [249.   72.5] Angle-60 Parent: (356, 497, 2) Cost: 466\n",
      "Self: [249.5  73. ] Angle-60 Parent: (355, 498, 2) Cost: 467\n",
      "Self: [250.   73.5] Angle-60 Parent: (354, 499, 2) Cost: 468\n",
      "Self: [250.5  74. ] Angle-60 Parent: (353, 500, 2) Cost: 469\n",
      "Self: [251.   74.5] Angle-60 Parent: (352, 501, 2) Cost: 470\n",
      "Self: [251.5  75. ] Angle-60 Parent: (351, 502, 2) Cost: 471\n",
      "Self: [252.   75.5] Angle-60 Parent: (350, 503, 2) Cost: 472\n",
      "Self: [252.5  76. ] Angle-60 Parent: (349, 504, 2) Cost: 473\n",
      "Self: [253.   76.5] Angle-60 Parent: (348, 505, 2) Cost: 474\n",
      "Self: [253.5  77. ] Angle-60 Parent: (347, 506, 2) Cost: 475\n",
      "Self: [254.   77.5] Angle-60 Parent: (346, 507, 2) Cost: 476\n",
      "Self: [254.5  78. ] Angle-60 Parent: (345, 508, 2) Cost: 477\n",
      "Self: [255.   78.5] Angle-60 Parent: (344, 509, 2) Cost: 478\n",
      "Self: [255.5  79. ] Angle-60 Parent: (343, 510, 2) Cost: 479\n",
      "Self: [256.   79.5] Angle-60 Parent: (342, 511, 2) Cost: 480\n",
      "Self: [256.5  80. ] Angle-60 Parent: (341, 512, 2) Cost: 481\n",
      "Self: [257.   80.5] Angle-60 Parent: (340, 513, 2) Cost: 482\n",
      "Self: [257.5  81. ] Angle-60 Parent: (339, 514, 2) Cost: 483\n",
      "Self: [258.   81.5] Angle-60 Parent: (338, 515, 2) Cost: 484\n",
      "Self: [258.5  82. ] Angle-60 Parent: (337, 516, 2) Cost: 485\n",
      "Self: [259.   82.5] Angle-60 Parent: (336, 517, 2) Cost: 486\n",
      "Self: [259.5  83. ] Angle-60 Parent: (335, 518, 2) Cost: 487\n",
      "Self: [260.   83.5] Angle-60 Parent: (334, 519, 2) Cost: 488\n",
      "Self: [260.5  84. ] Angle-60 Parent: (333, 520, 2) Cost: 489\n",
      "Self: [261.   84.5] Angle-60 Parent: (332, 521, 2) Cost: 490\n",
      "Self: [261.5  85. ] Angle-60 Parent: (331, 522, 2) Cost: 491\n",
      "Self: [262.   85.5] Angle-60 Parent: (330, 523, 2) Cost: 492\n",
      "Self: [262.5  86. ] Angle-60 Parent: (329, 524, 2) Cost: 493\n",
      "Self: [263.   86.5] Angle-60 Parent: (328, 525, 2) Cost: 494\n",
      "Self: [263.5  87. ] Angle-60 Parent: (327, 526, 2) Cost: 495\n",
      "Self: [264.   87.5] Angle-60 Parent: (326, 527, 2) Cost: 496\n",
      "Self: [264.5  88. ] Angle-60 Parent: (325, 528, 2) Cost: 497\n",
      "Self: [265.   88.5] Angle-60 Parent: (324, 529, 2) Cost: 498\n",
      "Self: [265.5  89. ] Angle-60 Parent: (323, 530, 2) Cost: 499\n",
      "Self: [266.   89.5] Angle-60 Parent: (322, 531, 2) Cost: 500\n",
      "Self: [266.5  90. ] Angle-60 Parent: (321, 532, 2) Cost: 501\n",
      "Self: [267.   90.5] Angle-60 Parent: (320, 533, 2) Cost: 502\n",
      "Self: [267.5  91. ] Angle-60 Parent: (319, 534, 2) Cost: 503\n",
      "Self: [268.   91.5] Angle-60 Parent: (318, 535, 2) Cost: 504\n",
      "Self: [268.5  92. ] Angle-60 Parent: (317, 536, 2) Cost: 505\n",
      "Self: [269.   92.5] Angle-60 Parent: (316, 537, 2) Cost: 506\n",
      "Self: [269.5  93. ] Angle-60 Parent: (315, 538, 2) Cost: 507\n",
      "Self: [270.   93.5] Angle-60 Parent: (314, 539, 2) Cost: 508\n",
      "Self: [270.5  94. ] Angle-60 Parent: (313, 540, 2) Cost: 509\n",
      "Self: [271.   94.5] Angle-60 Parent: (312, 541, 2) Cost: 510\n",
      "Self: [271.5  95. ] Angle-60 Parent: (311, 542, 2) Cost: 511\n",
      "Self: [272.   95.5] Angle-60 Parent: (310, 543, 2) Cost: 512\n",
      "Self: [272.5  96. ] Angle-60 Parent: (309, 544, 2) Cost: 513\n",
      "Self: [273.   96.5] Angle-60 Parent: (308, 545, 2) Cost: 514\n",
      "Self: [273.5  97. ] Angle-60 Parent: (307, 546, 2) Cost: 515\n",
      "Self: [274.   97.5] Angle-60 Parent: (306, 547, 2) Cost: 516\n",
      "Self: [274.5  98. ] Angle-60 Parent: (305, 548, 2) Cost: 517\n",
      "Self: [275.   98.5] Angle-60 Parent: (304, 549, 2) Cost: 518\n",
      "Self: [275.5  99. ] Angle-60 Parent: (303, 550, 2) Cost: 519\n",
      "Self: [276.   99.5] Angle-60 Parent: (302, 551, 2) Cost: 520\n",
      "Self: [276.5 100. ] Angle-30 Parent: (301, 552, 2) Cost: 521\n",
      "Self: [277. 100.] Angle-330 Parent: (300, 553, 1) Cost: 522\n",
      "Self: [277.5 100. ] Angle-300 Parent: (300, 554, 11) Cost: 523\n",
      "Self: [278. 100.] Angle-300 Parent: (300, 555, 10) Cost: 524\n",
      "Self: [278.5 100. ] Angle-300 Parent: (300, 556, 10) Cost: 525\n",
      "Self: [279. 100.] Angle-300 Parent: (300, 557, 10) Cost: 526\n",
      "Self: [279.5 100. ] Angle-300 Parent: (300, 558, 10) Cost: 527\n",
      "Self: [280. 100.] Angle-300 Parent: (300, 559, 10) Cost: 528\n",
      "Self: [280.5 100. ] Angle-300 Parent: (300, 560, 10) Cost: 529\n",
      "Self: [281. 100.] Angle-300 Parent: (300, 561, 10) Cost: 530\n",
      "Self: [281.5 100. ] Angle-300 Parent: (300, 562, 10) Cost: 531\n",
      "Self: [282. 100.] Angle-300 Parent: (300, 563, 10) Cost: 532\n",
      "Self: [282.5 100. ] Angle-300 Parent: (300, 564, 10) Cost: 533\n",
      "Self: [283. 100.] Angle-300 Parent: (300, 565, 10) Cost: 534\n",
      "Self: [283.5 100. ] Angle-300 Parent: (300, 566, 10) Cost: 535\n",
      "Self: [284. 100.] Angle-300 Parent: (300, 567, 10) Cost: 536\n",
      "Self: [284.5 100. ] Angle-300 Parent: (300, 568, 10) Cost: 537\n",
      "Self: [285. 100.] Angle-300 Parent: (300, 569, 10) Cost: 538\n",
      "Self: [285.5 100. ] Angle-300 Parent: (300, 570, 10) Cost: 539\n",
      "Self: [286. 100.] Angle-300 Parent: (300, 571, 10) Cost: 540\n",
      "Self: [286.5 100. ] Angle-300 Parent: (300, 572, 10) Cost: 541\n",
      "Self: [287. 100.] Angle-300 Parent: (300, 573, 10) Cost: 542\n",
      "Self: [287.5 100. ] Angle-300 Parent: (300, 574, 10) Cost: 543\n",
      "Self: [288. 100.] Angle-300 Parent: (300, 575, 10) Cost: 544\n",
      "Self: [288.5 100. ] Angle-300 Parent: (300, 576, 10) Cost: 545\n",
      "Self: [289. 100.] Angle-300 Parent: (300, 577, 10) Cost: 546\n",
      "Self: [289.5 100. ] Angle-300 Parent: (300, 578, 10) Cost: 547\n",
      "Self: [290. 100.] Angle-300 Parent: (300, 579, 10) Cost: 548\n",
      "Self: [290.5 100. ] Angle-300 Parent: (300, 580, 10) Cost: 549\n",
      "Self: [291. 100.] Angle-300 Parent: (300, 581, 10) Cost: 550\n",
      "Self: [291.5 100. ] Angle-300 Parent: (300, 582, 10) Cost: 551\n",
      "Self: [292. 100.] Angle-300 Parent: (300, 583, 10) Cost: 552\n",
      "Self: [292.5 100. ] Angle-300 Parent: (300, 584, 10) Cost: 553\n",
      "Self: [293. 100.] Angle-300 Parent: (300, 585, 10) Cost: 554\n",
      "Self: [293.5 100. ] Angle-300 Parent: (300, 586, 10) Cost: 555\n",
      "Self: [294. 100.] Angle-300 Parent: (300, 587, 10) Cost: 556\n",
      "Self: [294.5 100. ] Angle-300 Parent: (300, 588, 10) Cost: 557\n",
      "Self: [295. 100.] Angle-300 Parent: (300, 589, 10) Cost: 558\n",
      "Self: [295.5 100. ] Angle-300 Parent: (300, 590, 10) Cost: 559\n",
      "Self: [296. 100.] Angle-300 Parent: (300, 591, 10) Cost: 560\n",
      "Self: [296.5 100. ] Angle-300 Parent: (300, 592, 10) Cost: 561\n",
      "Self: [297. 100.] Angle-300 Parent: (300, 593, 10) Cost: 562\n",
      "Self: [297.5 100. ] Angle-300 Parent: (300, 594, 10) Cost: 563\n",
      "Self: [298. 100.] Angle-300 Parent: (300, 595, 10) Cost: 564\n",
      "Self: [298.5 100. ] Angle-300 Parent: (300, 596, 10) Cost: 565\n",
      "Self: [299. 100.] Angle-300 Parent: (300, 597, 10) Cost: 566\n",
      "Self: [299. 100.] Angle-240 Parent: (300, 598, 10) Cost: 567\n",
      "Self: [298.5 100. ] Angle-180 Parent: (300, 598, 8) Cost: 568\n"
     ]
    }
   ],
   "source": [
    "for ii in path:\n",
    "    print(ii)"
   ]
  },
  {
   "cell_type": "code",
   "execution_count": 8,
   "metadata": {},
   "outputs": [
    {
     "data": {
      "text/plain": [
       "(468, 28, 0)"
      ]
     },
     "execution_count": 8,
     "metadata": {},
     "output_type": "execute_result"
    }
   ],
   "source": [
    "a.start_goal[0]"
   ]
  },
  {
   "cell_type": "code",
   "execution_count": 5,
   "metadata": {},
   "outputs": [
    {
     "data": {
      "text/plain": [
       "470.0"
      ]
     },
     "execution_count": 5,
     "metadata": {},
     "output_type": "execute_result"
    }
   ],
   "source": [
    "(a.lim_x-15)/a.thresh_xy"
   ]
  },
  {
   "cell_type": "code",
   "execution_count": null,
   "metadata": {},
   "outputs": [],
   "source": []
  }
 ],
 "metadata": {
  "interpreter": {
   "hash": "75be3606324e7ac5bc661a90d547fd63ba4b3fb1ddada9c531af674fc77fef81"
  },
  "kernelspec": {
   "display_name": "Python 3.9.7 ('enpm661')",
   "language": "python",
   "name": "python3"
  },
  "language_info": {
   "codemirror_mode": {
    "name": "ipython",
    "version": 3
   },
   "file_extension": ".py",
   "mimetype": "text/x-python",
   "name": "python",
   "nbconvert_exporter": "python",
   "pygments_lexer": "ipython3",
   "version": "3.7.11"
  },
  "orig_nbformat": 4
 },
 "nbformat": 4,
 "nbformat_minor": 2
}
